{
 "cells": [
  {
   "cell_type": "code",
   "execution_count": 1,
   "metadata": {},
   "outputs": [],
   "source": [
    "import os"
   ]
  },
  {
   "cell_type": "code",
   "execution_count": 2,
   "metadata": {},
   "outputs": [
    {
     "data": {
      "text/plain": [
       "['.DS_Store',\n",
       " 'changchui',\n",
       " 'Untitled.ipynb',\n",
       " 'catcafe',\n",
       " 'japan',\n",
       " 'silp',\n",
       " 'ampawa2561',\n",
       " '.ipynb_checkpoints',\n",
       " 'chaingmai']"
      ]
     },
     "execution_count": 2,
     "metadata": {},
     "output_type": "execute_result"
    }
   ],
   "source": [
    "os.listdir()"
   ]
  },
  {
   "cell_type": "code",
   "execution_count": 9,
   "metadata": {},
   "outputs": [],
   "source": [
    "fols = ['changchui',\n",
    " 'catcafe',\n",
    " 'japan',\n",
    " 'silp',\n",
    " 'ampawa2561',\n",
    " 'chaingmai']"
   ]
  },
  {
   "cell_type": "code",
   "execution_count": 41,
   "metadata": {},
   "outputs": [
    {
     "name": "stdout",
     "output_type": "stream",
     "text": [
      "\n",
      "\n",
      "\n",
      "\n",
      "\n",
      "\n",
      "\n",
      "\n",
      "\n",
      "\n",
      "\n",
      "\n"
     ]
    }
   ],
   "source": [
    "img_files = dict()\n",
    "for i in fols:\n",
    "\n",
    "    img_files[i] = []\n",
    "    files = os.listdir(i)\n",
    "    for j in files:\n",
    "        img_files[i].append(i+'/'+j)\n",
    "    print()\n",
    "    print()\n",
    "    "
   ]
  },
  {
   "cell_type": "code",
   "execution_count": null,
   "metadata": {},
   "outputs": [],
   "source": []
  },
  {
   "cell_type": "code",
   "execution_count": 54,
   "metadata": {},
   "outputs": [],
   "source": []
  },
  {
   "cell_type": "code",
   "execution_count": null,
   "metadata": {},
   "outputs": [],
   "source": [
    "# {'cha','cat','jap','art','amp','cha'}"
   ]
  },
  {
   "cell_type": "code",
   "execution_count": 63,
   "metadata": {},
   "outputs": [
    {
     "name": "stdout",
     "output_type": "stream",
     "text": [
      "<div class=\"portfolio-item cha col-xs-12 col-sm-12 col-md-4 thumbs\"><figure class=\"effect-moses wow fadeIn\"><a href=\"photos/chaingmai/47.jpeg\"><img src=\"photos/chaingmai/47.jpeg\" alt=\"\"/><figcaption><h2>cha</h2><p></p></figcaption></a></figure></div>\n",
      "<div class=\"portfolio-item cha col-xs-12 col-sm-12 col-md-4 thumbs\"><figure class=\"effect-moses wow fadeIn\"><a href=\"photos/chaingmai/10.jpeg\"><img src=\"photos/chaingmai/10.jpeg\" alt=\"\"/><figcaption><h2>cha</h2><p></p></figcaption></a></figure></div>\n",
      "<div class=\"portfolio-item cha col-xs-12 col-sm-12 col-md-4 thumbs\"><figure class=\"effect-moses wow fadeIn\"><a href=\"photos/chaingmai/51.jpeg\"><img src=\"photos/chaingmai/51.jpeg\" alt=\"\"/><figcaption><h2>cha</h2><p></p></figcaption></a></figure></div>\n",
      "<div class=\"portfolio-item cha col-xs-12 col-sm-12 col-md-4 thumbs\"><figure class=\"effect-moses wow fadeIn\"><a href=\"photos/chaingmai/0.jpeg\"><img src=\"photos/chaingmai/0.jpeg\" alt=\"\"/><figcaption><h2>cha</h2><p></p></figcaption></a></figure></div>\n",
      "<div class=\"portfolio-item cha col-xs-12 col-sm-12 col-md-4 thumbs\"><figure class=\"effect-moses wow fadeIn\"><a href=\"photos/chaingmai/26.jpeg\"><img src=\"photos/chaingmai/26.jpeg\" alt=\"\"/><figcaption><h2>cha</h2><p></p></figcaption></a></figure></div>\n",
      "<div class=\"portfolio-item cha col-xs-12 col-sm-12 col-md-4 thumbs\"><figure class=\"effect-moses wow fadeIn\"><a href=\"photos/chaingmai/30.jpeg\"><img src=\"photos/chaingmai/30.jpeg\" alt=\"\"/><figcaption><h2>cha</h2><p></p></figcaption></a></figure></div>\n",
      "<div class=\"portfolio-item cha col-xs-12 col-sm-12 col-md-4 thumbs\"><figure class=\"effect-moses wow fadeIn\"><a href=\"photos/chaingmai/31.jpeg\"><img src=\"photos/chaingmai/31.jpeg\" alt=\"\"/><figcaption><h2>cha</h2><p></p></figcaption></a></figure></div>\n",
      "<div class=\"portfolio-item cha col-xs-12 col-sm-12 col-md-4 thumbs\"><figure class=\"effect-moses wow fadeIn\"><a href=\"photos/chaingmai/27.jpeg\"><img src=\"photos/chaingmai/27.jpeg\" alt=\"\"/><figcaption><h2>cha</h2><p></p></figcaption></a></figure></div>\n",
      "<div class=\"portfolio-item cha col-xs-12 col-sm-12 col-md-4 thumbs\"><figure class=\"effect-moses wow fadeIn\"><a href=\"photos/chaingmai/1.jpeg\"><img src=\"photos/chaingmai/1.jpeg\" alt=\"\"/><figcaption><h2>cha</h2><p></p></figcaption></a></figure></div>\n",
      "<div class=\"portfolio-item cha col-xs-12 col-sm-12 col-md-4 thumbs\"><figure class=\"effect-moses wow fadeIn\"><a href=\"photos/chaingmai/50.jpeg\"><img src=\"photos/chaingmai/50.jpeg\" alt=\"\"/><figcaption><h2>cha</h2><p></p></figcaption></a></figure></div>\n",
      "<div class=\"portfolio-item cha col-xs-12 col-sm-12 col-md-4 thumbs\"><figure class=\"effect-moses wow fadeIn\"><a href=\"photos/chaingmai/11.jpeg\"><img src=\"photos/chaingmai/11.jpeg\" alt=\"\"/><figcaption><h2>cha</h2><p></p></figcaption></a></figure></div>\n",
      "<div class=\"portfolio-item cha col-xs-12 col-sm-12 col-md-4 thumbs\"><figure class=\"effect-moses wow fadeIn\"><a href=\"photos/chaingmai/46.jpeg\"><img src=\"photos/chaingmai/46.jpeg\" alt=\"\"/><figcaption><h2>cha</h2><p></p></figcaption></a></figure></div>\n",
      "<div class=\"portfolio-item cha col-xs-12 col-sm-12 col-md-4 thumbs\"><figure class=\"effect-moses wow fadeIn\"><a href=\"photos/chaingmai/20.jpeg\"><img src=\"photos/chaingmai/20.jpeg\" alt=\"\"/><figcaption><h2>cha</h2><p></p></figcaption></a></figure></div>\n",
      "<div class=\"portfolio-item cha col-xs-12 col-sm-12 col-md-4 thumbs\"><figure class=\"effect-moses wow fadeIn\"><a href=\"photos/chaingmai/61.jpeg\"><img src=\"photos/chaingmai/61.jpeg\" alt=\"\"/><figcaption><h2>cha</h2><p></p></figcaption></a></figure></div>\n",
      "<div class=\"portfolio-item cha col-xs-12 col-sm-12 col-md-4 thumbs\"><figure class=\"effect-moses wow fadeIn\"><a href=\"photos/chaingmai/36.jpeg\"><img src=\"photos/chaingmai/36.jpeg\" alt=\"\"/><figcaption><h2>cha</h2><p></p></figcaption></a></figure></div>\n",
      "<div class=\"portfolio-item cha col-xs-12 col-sm-12 col-md-4 thumbs\"><figure class=\"effect-moses wow fadeIn\"><a href=\"photos/chaingmai/41.jpeg\"><img src=\"photos/chaingmai/41.jpeg\" alt=\"\"/><figcaption><h2>cha</h2><p></p></figcaption></a></figure></div>\n",
      "<div class=\"portfolio-item cha col-xs-12 col-sm-12 col-md-4 thumbs\"><figure class=\"effect-moses wow fadeIn\"><a href=\"photos/chaingmai/16.jpeg\"><img src=\"photos/chaingmai/16.jpeg\" alt=\"\"/><figcaption><h2>cha</h2><p></p></figcaption></a></figure></div>\n",
      "<div class=\"portfolio-item cha col-xs-12 col-sm-12 col-md-4 thumbs\"><figure class=\"effect-moses wow fadeIn\"><a href=\"photos/chaingmai/57.jpeg\"><img src=\"photos/chaingmai/57.jpeg\" alt=\"\"/><figcaption><h2>cha</h2><p></p></figcaption></a></figure></div>\n",
      "<div class=\"portfolio-item cha col-xs-12 col-sm-12 col-md-4 thumbs\"><figure class=\"effect-moses wow fadeIn\"><a href=\"photos/chaingmai/6.jpeg\"><img src=\"photos/chaingmai/6.jpeg\" alt=\"\"/><figcaption><h2>cha</h2><p></p></figcaption></a></figure></div>\n",
      "<div class=\"portfolio-item cha col-xs-12 col-sm-12 col-md-4 thumbs\"><figure class=\"effect-moses wow fadeIn\"><a href=\"photos/chaingmai/7.jpeg\"><img src=\"photos/chaingmai/7.jpeg\" alt=\"\"/><figcaption><h2>cha</h2><p></p></figcaption></a></figure></div>\n",
      "<div class=\"portfolio-item cha col-xs-12 col-sm-12 col-md-4 thumbs\"><figure class=\"effect-moses wow fadeIn\"><a href=\"photos/chaingmai/56.jpeg\"><img src=\"photos/chaingmai/56.jpeg\" alt=\"\"/><figcaption><h2>cha</h2><p></p></figcaption></a></figure></div>\n",
      "<div class=\"portfolio-item cha col-xs-12 col-sm-12 col-md-4 thumbs\"><figure class=\"effect-moses wow fadeIn\"><a href=\"photos/chaingmai/17.jpeg\"><img src=\"photos/chaingmai/17.jpeg\" alt=\"\"/><figcaption><h2>cha</h2><p></p></figcaption></a></figure></div>\n",
      "<div class=\"portfolio-item cha col-xs-12 col-sm-12 col-md-4 thumbs\"><figure class=\"effect-moses wow fadeIn\"><a href=\"photos/chaingmai/40.jpeg\"><img src=\"photos/chaingmai/40.jpeg\" alt=\"\"/><figcaption><h2>cha</h2><p></p></figcaption></a></figure></div>\n",
      "<div class=\"portfolio-item cha col-xs-12 col-sm-12 col-md-4 thumbs\"><figure class=\"effect-moses wow fadeIn\"><a href=\"photos/chaingmai/37.jpeg\"><img src=\"photos/chaingmai/37.jpeg\" alt=\"\"/><figcaption><h2>cha</h2><p></p></figcaption></a></figure></div>\n",
      "<div class=\"portfolio-item cha col-xs-12 col-sm-12 col-md-4 thumbs\"><figure class=\"effect-moses wow fadeIn\"><a href=\"photos/chaingmai/60.jpeg\"><img src=\"photos/chaingmai/60.jpeg\" alt=\"\"/><figcaption><h2>cha</h2><p></p></figcaption></a></figure></div>\n",
      "<div class=\"portfolio-item cha col-xs-12 col-sm-12 col-md-4 thumbs\"><figure class=\"effect-moses wow fadeIn\"><a href=\"photos/chaingmai/21.jpeg\"><img src=\"photos/chaingmai/21.jpeg\" alt=\"\"/><figcaption><h2>cha</h2><p></p></figcaption></a></figure></div>\n",
      "<div class=\"portfolio-item cha col-xs-12 col-sm-12 col-md-4 thumbs\"><figure class=\"effect-moses wow fadeIn\"><a href=\"photos/chaingmai/34.jpeg\"><img src=\"photos/chaingmai/34.jpeg\" alt=\"\"/><figcaption><h2>cha</h2><p></p></figcaption></a></figure></div>\n",
      "<div class=\"portfolio-item cha col-xs-12 col-sm-12 col-md-4 thumbs\"><figure class=\"effect-moses wow fadeIn\"><a href=\"photos/chaingmai/8.jpeg\"><img src=\"photos/chaingmai/8.jpeg\" alt=\"\"/><figcaption><h2>cha</h2><p></p></figcaption></a></figure></div>\n",
      "<div class=\"portfolio-item cha col-xs-12 col-sm-12 col-md-4 thumbs\"><figure class=\"effect-moses wow fadeIn\"><a href=\"photos/chaingmai/22.jpeg\"><img src=\"photos/chaingmai/22.jpeg\" alt=\"\"/><figcaption><h2>cha</h2><p></p></figcaption></a></figure></div>\n",
      "<div class=\"portfolio-item cha col-xs-12 col-sm-12 col-md-4 thumbs\"><figure class=\"effect-moses wow fadeIn\"><a href=\"photos/chaingmai/59.jpeg\"><img src=\"photos/chaingmai/59.jpeg\" alt=\"\"/><figcaption><h2>cha</h2><p></p></figcaption></a></figure></div>\n",
      "<div class=\"portfolio-item cha col-xs-12 col-sm-12 col-md-4 thumbs\"><figure class=\"effect-moses wow fadeIn\"><a href=\"photos/chaingmai/18.jpeg\"><img src=\"photos/chaingmai/18.jpeg\" alt=\"\"/><figcaption><h2>cha</h2><p></p></figcaption></a></figure></div>\n",
      "<div class=\"portfolio-item cha col-xs-12 col-sm-12 col-md-4 thumbs\"><figure class=\"effect-moses wow fadeIn\"><a href=\"photos/chaingmai/38.jpeg\"><img src=\"photos/chaingmai/38.jpeg\" alt=\"\"/><figcaption><h2>cha</h2><p></p></figcaption></a></figure></div>\n",
      "<div class=\"portfolio-item cha col-xs-12 col-sm-12 col-md-4 thumbs\"><figure class=\"effect-moses wow fadeIn\"><a href=\"photos/chaingmai/4.jpeg\"><img src=\"photos/chaingmai/4.jpeg\" alt=\"\"/><figcaption><h2>cha</h2><p></p></figcaption></a></figure></div>\n",
      "<div class=\"portfolio-item cha col-xs-12 col-sm-12 col-md-4 thumbs\"><figure class=\"effect-moses wow fadeIn\"><a href=\"photos/chaingmai/55.jpeg\"><img src=\"photos/chaingmai/55.jpeg\" alt=\"\"/><figcaption><h2>cha</h2><p></p></figcaption></a></figure></div>\n",
      "<div class=\"portfolio-item cha col-xs-12 col-sm-12 col-md-4 thumbs\"><figure class=\"effect-moses wow fadeIn\"><a href=\"photos/chaingmai/14.jpeg\"><img src=\"photos/chaingmai/14.jpeg\" alt=\"\"/><figcaption><h2>cha</h2><p></p></figcaption></a></figure></div>\n",
      "<div class=\"portfolio-item cha col-xs-12 col-sm-12 col-md-4 thumbs\"><figure class=\"effect-moses wow fadeIn\"><a href=\"photos/chaingmai/43.jpeg\"><img src=\"photos/chaingmai/43.jpeg\" alt=\"\"/><figcaption><h2>cha</h2><p></p></figcaption></a></figure></div>\n",
      "<div class=\"portfolio-item cha col-xs-12 col-sm-12 col-md-4 thumbs\"><figure class=\"effect-moses wow fadeIn\"><a href=\"photos/chaingmai/42.jpeg\"><img src=\"photos/chaingmai/42.jpeg\" alt=\"\"/><figcaption><h2>cha</h2><p></p></figcaption></a></figure></div>\n",
      "<div class=\"portfolio-item cha col-xs-12 col-sm-12 col-md-4 thumbs\"><figure class=\"effect-moses wow fadeIn\"><a href=\"photos/chaingmai/15.jpeg\"><img src=\"photos/chaingmai/15.jpeg\" alt=\"\"/><figcaption><h2>cha</h2><p></p></figcaption></a></figure></div>\n",
      "<div class=\"portfolio-item cha col-xs-12 col-sm-12 col-md-4 thumbs\"><figure class=\"effect-moses wow fadeIn\"><a href=\"photos/chaingmai/54.jpeg\"><img src=\"photos/chaingmai/54.jpeg\" alt=\"\"/><figcaption><h2>cha</h2><p></p></figcaption></a></figure></div>\n",
      "<div class=\"portfolio-item cha col-xs-12 col-sm-12 col-md-4 thumbs\"><figure class=\"effect-moses wow fadeIn\"><a href=\"photos/chaingmai/5.jpeg\"><img src=\"photos/chaingmai/5.jpeg\" alt=\"\"/><figcaption><h2>cha</h2><p></p></figcaption></a></figure></div>\n",
      "<div class=\"portfolio-item cha col-xs-12 col-sm-12 col-md-4 thumbs\"><figure class=\"effect-moses wow fadeIn\"><a href=\"photos/chaingmai/39.jpeg\"><img src=\"photos/chaingmai/39.jpeg\" alt=\"\"/><figcaption><h2>cha</h2><p></p></figcaption></a></figure></div>\n",
      "<div class=\"portfolio-item cha col-xs-12 col-sm-12 col-md-4 thumbs\"><figure class=\"effect-moses wow fadeIn\"><a href=\"photos/chaingmai/19.jpeg\"><img src=\"photos/chaingmai/19.jpeg\" alt=\"\"/><figcaption><h2>cha</h2><p></p></figcaption></a></figure></div>\n",
      "<div class=\"portfolio-item cha col-xs-12 col-sm-12 col-md-4 thumbs\"><figure class=\"effect-moses wow fadeIn\"><a href=\"photos/chaingmai/58.jpeg\"><img src=\"photos/chaingmai/58.jpeg\" alt=\"\"/><figcaption><h2>cha</h2><p></p></figcaption></a></figure></div>\n",
      "<div class=\"portfolio-item cha col-xs-12 col-sm-12 col-md-4 thumbs\"><figure class=\"effect-moses wow fadeIn\"><a href=\"photos/chaingmai/23.jpeg\"><img src=\"photos/chaingmai/23.jpeg\" alt=\"\"/><figcaption><h2>cha</h2><p></p></figcaption></a></figure></div>\n",
      "<div class=\"portfolio-item cha col-xs-12 col-sm-12 col-md-4 thumbs\"><figure class=\"effect-moses wow fadeIn\"><a href=\"photos/chaingmai/62.jpeg\"><img src=\"photos/chaingmai/62.jpeg\" alt=\"\"/><figcaption><h2>cha</h2><p></p></figcaption></a></figure></div>\n",
      "<div class=\"portfolio-item cha col-xs-12 col-sm-12 col-md-4 thumbs\"><figure class=\"effect-moses wow fadeIn\"><a href=\"photos/chaingmai/9.jpeg\"><img src=\"photos/chaingmai/9.jpeg\" alt=\"\"/><figcaption><h2>cha</h2><p></p></figcaption></a></figure></div>\n",
      "<div class=\"portfolio-item cha col-xs-12 col-sm-12 col-md-4 thumbs\"><figure class=\"effect-moses wow fadeIn\"><a href=\"photos/chaingmai/35.jpeg\"><img src=\"photos/chaingmai/35.jpeg\" alt=\"\"/><figcaption><h2>cha</h2><p></p></figcaption></a></figure></div>\n",
      "<div class=\"portfolio-item cha col-xs-12 col-sm-12 col-md-4 thumbs\"><figure class=\"effect-moses wow fadeIn\"><a href=\"photos/chaingmai/2.jpeg\"><img src=\"photos/chaingmai/2.jpeg\" alt=\"\"/><figcaption><h2>cha</h2><p></p></figcaption></a></figure></div>\n",
      "<div class=\"portfolio-item cha col-xs-12 col-sm-12 col-md-4 thumbs\"><figure class=\"effect-moses wow fadeIn\"><a href=\"photos/chaingmai/28.jpeg\"><img src=\"photos/chaingmai/28.jpeg\" alt=\"\"/><figcaption><h2>cha</h2><p></p></figcaption></a></figure></div>\n",
      "<div class=\"portfolio-item cha col-xs-12 col-sm-12 col-md-4 thumbs\"><figure class=\"effect-moses wow fadeIn\"><a href=\"photos/chaingmai/53.jpeg\"><img src=\"photos/chaingmai/53.jpeg\" alt=\"\"/><figcaption><h2>cha</h2><p></p></figcaption></a></figure></div>\n",
      "<div class=\"portfolio-item cha col-xs-12 col-sm-12 col-md-4 thumbs\"><figure class=\"effect-moses wow fadeIn\"><a href=\"photos/chaingmai/12.jpeg\"><img src=\"photos/chaingmai/12.jpeg\" alt=\"\"/><figcaption><h2>cha</h2><p></p></figcaption></a></figure></div>\n",
      "<div class=\"portfolio-item cha col-xs-12 col-sm-12 col-md-4 thumbs\"><figure class=\"effect-moses wow fadeIn\"><a href=\"photos/chaingmai/45.jpeg\"><img src=\"photos/chaingmai/45.jpeg\" alt=\"\"/><figcaption><h2>cha</h2><p></p></figcaption></a></figure></div>\n",
      "<div class=\"portfolio-item cha col-xs-12 col-sm-12 col-md-4 thumbs\"><figure class=\"effect-moses wow fadeIn\"><a href=\"photos/chaingmai/32.jpeg\"><img src=\"photos/chaingmai/32.jpeg\" alt=\"\"/><figcaption><h2>cha</h2><p></p></figcaption></a></figure></div>\n",
      "<div class=\"portfolio-item cha col-xs-12 col-sm-12 col-md-4 thumbs\"><figure class=\"effect-moses wow fadeIn\"><a href=\"photos/chaingmai/24.jpeg\"><img src=\"photos/chaingmai/24.jpeg\" alt=\"\"/><figcaption><h2>cha</h2><p></p></figcaption></a></figure></div>\n",
      "<div class=\"portfolio-item cha col-xs-12 col-sm-12 col-md-4 thumbs\"><figure class=\"effect-moses wow fadeIn\"><a href=\"photos/chaingmai/49.jpeg\"><img src=\"photos/chaingmai/49.jpeg\" alt=\"\"/><figcaption><h2>cha</h2><p></p></figcaption></a></figure></div>\n",
      "<div class=\"portfolio-item cha col-xs-12 col-sm-12 col-md-4 thumbs\"><figure class=\"effect-moses wow fadeIn\"><a href=\"photos/chaingmai/48.jpeg\"><img src=\"photos/chaingmai/48.jpeg\" alt=\"\"/><figcaption><h2>cha</h2><p></p></figcaption></a></figure></div>\n",
      "<div class=\"portfolio-item cha col-xs-12 col-sm-12 col-md-4 thumbs\"><figure class=\"effect-moses wow fadeIn\"><a href=\"photos/chaingmai/25.jpeg\"><img src=\"photos/chaingmai/25.jpeg\" alt=\"\"/><figcaption><h2>cha</h2><p></p></figcaption></a></figure></div>\n",
      "<div class=\"portfolio-item cha col-xs-12 col-sm-12 col-md-4 thumbs\"><figure class=\"effect-moses wow fadeIn\"><a href=\"photos/chaingmai/33.jpeg\"><img src=\"photos/chaingmai/33.jpeg\" alt=\"\"/><figcaption><h2>cha</h2><p></p></figcaption></a></figure></div>\n",
      "<div class=\"portfolio-item cha col-xs-12 col-sm-12 col-md-4 thumbs\"><figure class=\"effect-moses wow fadeIn\"><a href=\"photos/chaingmai/44.jpeg\"><img src=\"photos/chaingmai/44.jpeg\" alt=\"\"/><figcaption><h2>cha</h2><p></p></figcaption></a></figure></div>\n",
      "<div class=\"portfolio-item cha col-xs-12 col-sm-12 col-md-4 thumbs\"><figure class=\"effect-moses wow fadeIn\"><a href=\"photos/chaingmai/13.jpeg\"><img src=\"photos/chaingmai/13.jpeg\" alt=\"\"/><figcaption><h2>cha</h2><p></p></figcaption></a></figure></div>\n",
      "<div class=\"portfolio-item cha col-xs-12 col-sm-12 col-md-4 thumbs\"><figure class=\"effect-moses wow fadeIn\"><a href=\"photos/chaingmai/52.jpeg\"><img src=\"photos/chaingmai/52.jpeg\" alt=\"\"/><figcaption><h2>cha</h2><p></p></figcaption></a></figure></div>\n",
      "<div class=\"portfolio-item cha col-xs-12 col-sm-12 col-md-4 thumbs\"><figure class=\"effect-moses wow fadeIn\"><a href=\"photos/chaingmai/29.jpeg\"><img src=\"photos/chaingmai/29.jpeg\" alt=\"\"/><figcaption><h2>cha</h2><p></p></figcaption></a></figure></div>\n",
      "<div class=\"portfolio-item cha col-xs-12 col-sm-12 col-md-4 thumbs\"><figure class=\"effect-moses wow fadeIn\"><a href=\"photos/chaingmai/3.jpeg\"><img src=\"photos/chaingmai/3.jpeg\" alt=\"\"/><figcaption><h2>cha</h2><p></p></figcaption></a></figure></div>\n"
     ]
    }
   ],
   "source": [
    "class_name = 'cha'\n",
    "for img in img_files['chaingmai']:\n",
    "    print(f'<div class=\"portfolio-item {class_name} col-xs-12 col-sm-12 col-md-4 thumbs\"><figure class=\"effect-moses wow fadeIn\"><a href=\"photos/{img}\"><img src=\"photos/{img}\" alt=\"\"/><figcaption><h2>{class_name}</h2><p></p></figcaption></a></figure></div>')"
   ]
  },
  {
   "cell_type": "code",
   "execution_count": 55,
   "metadata": {},
   "outputs": [
    {
     "name": "stdout",
     "output_type": "stream",
     "text": [
      "changchui\n",
      "catcafe\n",
      "japan\n",
      "silp\n",
      "ampawa2561\n",
      "chaingmai\n"
     ]
    }
   ],
   "source": [
    "for i, v in img_files.items():\n",
    "    print(i)"
   ]
  },
  {
   "cell_type": "code",
   "execution_count": 24,
   "metadata": {
    "scrolled": true
   },
   "outputs": [
    {
     "name": "stdout",
     "output_type": "stream",
     "text": [
      "<div class=\"portfolio-item autumn col-xs-12 col-sm-12 col-md-4 thumbs\"><figure class=\"effect-moses wow fadeIn\"><a href=\"img/image2.jpg\"><img src=\"img/image2.jpg\" alt=\"\"/><figcaption><h2>PHOTO2</h2><p>The human head is a constantly moving and turning pedestal with the hat a sculpture.</p></figcaption></a></figure></div>\n"
     ]
    }
   ],
   "source": [
    "\n",
    "\n",
    "print(f'<div class=\"portfolio-item {class_name} col-xs-12 col-sm-12 col-md-4 thumbs\"><figure class=\"effect-moses wow fadeIn\"><a href=\"{img}\"><img src=\"{img}\" alt=\"\"/><figcaption><h2>{class_name}</h2><p></p></figcaption></a></figure></div>')"
   ]
  },
  {
   "cell_type": "code",
   "execution_count": null,
   "metadata": {},
   "outputs": [],
   "source": []
  }
 ],
 "metadata": {
  "kernelspec": {
   "display_name": "Python 3",
   "language": "python",
   "name": "python3"
  },
  "language_info": {
   "codemirror_mode": {
    "name": "ipython",
    "version": 3
   },
   "file_extension": ".py",
   "mimetype": "text/x-python",
   "name": "python",
   "nbconvert_exporter": "python",
   "pygments_lexer": "ipython3",
   "version": "3.7.1"
  }
 },
 "nbformat": 4,
 "nbformat_minor": 2
}
